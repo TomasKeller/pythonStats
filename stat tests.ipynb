{
 "cells": [
  {
   "cell_type": "markdown",
   "metadata": {},
   "source": [
    "# Analysing data and performing appropriate tests for significance"
   ]
  },
  {
   "cell_type": "markdown",
   "metadata": {},
   "source": [
    "## Read data"
   ]
  },
  {
   "cell_type": "code",
   "execution_count": 1,
   "metadata": {
    "collapsed": false
   },
   "outputs": [
    {
     "name": "stderr",
     "output_type": "stream",
     "text": [
      "/Users/tomas/miniconda2/envs/py27_nb/lib/python2.7/site-packages/matplotlib/font_manager.py:273: UserWarning: Matplotlib is building the font cache using fc-list. This may take a moment.\n",
      "  warnings.warn('Matplotlib is building the font cache using fc-list. This may take a moment.')\n",
      "/Users/tomas/miniconda2/envs/py27_nb/lib/python2.7/site-packages/IPython/core/interactiveshell.py:2723: DtypeWarning: Columns (3) have mixed types. Specify dtype option on import or set low_memory=False.\n",
      "  interactivity=interactivity, compiler=compiler, result=result)\n"
     ]
    }
   ],
   "source": [
    "import pandas as pd\n",
    "from scipy import stats\n",
    "import matplotlib.pyplot as plt\n",
    "\n",
    "%matplotlib inline\n",
    "\n",
    "df = pd.read_csv('../data/MOCKUP_DATA.csv', sep=';', decimal=',')"
   ]
  },
  {
   "cell_type": "markdown",
   "metadata": {},
   "source": [
    "## Analysis of usage\n",
    "- average number of calls, sms etc"
   ]
  },
  {
   "cell_type": "code",
   "execution_count": 2,
   "metadata": {
    "collapsed": false
   },
   "outputs": [
    {
     "data": {
      "text/plain": [
       "VOICE_CNT         35.209287\n",
       "MMS_CNT            2.114834\n",
       "SMS_CNT           43.669664\n",
       "DATA_MB         1321.633209\n",
       "DATA_4G_MB      1149.766891\n",
       "FUL_MB          8229.218446\n",
       "FUL_PCT_USED    -784.065435\n",
       "dtype: float64"
      ]
     },
     "execution_count": 2,
     "metadata": {},
     "output_type": "execute_result"
    }
   ],
   "source": [
    "df[df['SNAP_WK']<201701][['VOICE_CNT','MMS_CNT','SMS_CNT','DATA_MB', 'DATA_4G_MB','FUL_MB','FUL_PCT_USED']].mean()"
   ]
  },
  {
   "cell_type": "code",
   "execution_count": 3,
   "metadata": {
    "collapsed": false
   },
   "outputs": [
    {
     "data": {
      "text/plain": [
       "VOICE_CNT         30.524558\n",
       "MMS_CNT            1.816047\n",
       "SMS_CNT           41.558696\n",
       "DATA_MB         1654.147999\n",
       "DATA_4G_MB      1519.668266\n",
       "FUL_MB          9825.723773\n",
       "FUL_PCT_USED    -300.970409\n",
       "dtype: float64"
      ]
     },
     "execution_count": 3,
     "metadata": {},
     "output_type": "execute_result"
    }
   ],
   "source": [
    "df[df['SNAP_WK']>=201701][['VOICE_CNT','MMS_CNT','SMS_CNT','DATA_MB', 'DATA_4G_MB','FUL_MB','FUL_PCT_USED']].mean()"
   ]
  },
  {
   "cell_type": "markdown",
   "metadata": {},
   "source": [
    "## Analysis of usage before and after January first\n",
    "- t-test for each usage variable"
   ]
  },
  {
   "cell_type": "code",
   "execution_count": 4,
   "metadata": {
    "collapsed": false
   },
   "outputs": [
    {
     "name": "stdout",
     "output_type": "stream",
     "text": [
      "VOICE_CNT\n",
      "u-statistic = 12019148226.500 pvalue = 0.0000\n",
      "91168 232588\n",
      "\n",
      "MMS_CNT\n",
      "u-statistic = 3002163375.000 pvalue = 0.0000\n",
      "49952 114804\n",
      "\n",
      "SMS_CNT\n",
      "u-statistic = 10963613524.000 pvalue = 0.0000\n",
      "90009 231202\n",
      "\n",
      "DATA_MB\n",
      "u-statistic = 10067245368.500 pvalue = 0.0000\n",
      "91661 237953\n",
      "\n",
      "DATA_4G_MB\n",
      "u-statistic = 8269117483.500 pvalue = 0.0000\n",
      "76737 223091\n",
      "\n",
      "FUL_MB\n",
      "u-statistic = 6829226425.500 pvalue = 0.0000\n",
      "79256 202962\n",
      "\n",
      "FUL_PCT_USED\n",
      "u-statistic = 5712096974.000 pvalue = 0.0000\n",
      "70624 190091\n",
      "\n"
     ]
    }
   ],
   "source": [
    "cols = ['VOICE_CNT','MMS_CNT','SMS_CNT','DATA_MB', 'DATA_4G_MB','FUL_MB','FUL_PCT_USED']\n",
    "for c in cols:\n",
    "    print c\n",
    "    a = df[(df['SNAP_WK']<201701) & (df[c]>0)][[c]]\n",
    "    b = df[(df['SNAP_WK']>=201701) & (df[c]>0)][[c]]\n",
    "    a = a.dropna()\n",
    "    b = b.dropna()\n",
    "    print 'u-statistic = %6.3f pvalue = %6.4f' %  stats.mannwhitneyu(a,b,use_continuity=True, alternative='two-sided')\n",
    "    print a.count()[0], b.count()[0]\n",
    "    print"
   ]
  },
  {
   "cell_type": "markdown",
   "metadata": {},
   "source": [
    "---\n",
    "### T-test\n",
    "```python\n",
    "scipy.stats.ttest_ind(a, b, axis=0, equal_var=True, nan_policy='propagate')\n",
    "```\n",
    "Calculates the T-test for the means of two independent samples of scores.\n",
    "\n",
    "This is a two-sided test for the null hypothesis that 2 independent samples have identical average (expected) values. This test assumes that the populations have identical variances by default.\n",
    "\n",
    "We can use this test, if we observe two independent samples from the same or different population, e.g. exam scores of boys and girls or of two ethnic groups. The test measures whether the average (expected) value differs significantly across samples. If we observe a large p-value, for example larger than 0.05 or 0.1, then we cannot reject the null hypothesis of identical average scores. If the p-value is smaller than the threshold, e.g. 1%, 5% or 10%, then we reject the null hypothesis of equal averages.\n"
   ]
  },
  {
   "cell_type": "code",
   "execution_count": 6,
   "metadata": {
    "collapsed": false
   },
   "outputs": [
    {
     "name": "stdout",
     "output_type": "stream",
     "text": [
      "t-statistic = -12.218 pvalue = 0.0000\n"
     ]
    }
   ],
   "source": [
    "print 't-statistic = %6.3f pvalue = %6.4f' %  stats.ttest_ind(a,b,equal_var=False)"
   ]
  },
  {
   "cell_type": "markdown",
   "metadata": {},
   "source": [
    "---\n",
    "### Mann Whitney\n",
    "```python\n",
    "scipy.stats.mannwhitneyu(x, y, use_continuity=True, alternative=None)\n",
    "```\n",
    "Computes the Mann-Whitney rank test on samples x and y.\n",
    "Use only when the number of observation in each sample is > 20 and you have 2 independent samples of ranks. Mann-Whitney U is significant if the u-obtained is LESS THAN or equal to the critical value of U.\n",
    "\n",
    "This test corrects for ties and by default uses a continuity correction."
   ]
  },
  {
   "cell_type": "code",
   "execution_count": 7,
   "metadata": {
    "collapsed": false
   },
   "outputs": [
    {
     "name": "stdout",
     "output_type": "stream",
     "text": [
      "u-statistic = 5712096974.000 pvalue = 0.0000\n"
     ]
    }
   ],
   "source": [
    "print 'u-statistic = %6.3f pvalue = %6.4f' % stats.mannwhitneyu(a,b,use_continuity=True, alternative='two-sided')"
   ]
  },
  {
   "cell_type": "markdown",
   "metadata": {},
   "source": [
    "___\n",
    "### KS\n",
    "```python \n",
    "scipy.stats.ks_2samp(data1, data2)\n",
    "```\n",
    "Computes the Kolmogorov-Smirnov statistic on 2 samples.\n",
    "\n",
    "This is a two-sided test for the null hypothesis that 2 independent samples are drawn from the same continuous distribution.\n",
    "\n",
    "This tests whether 2 samples are drawn from the same distribution. Note that, like in the case of the one-sample K-S test, the distribution is assumed to be continuous.\n",
    "\n",
    "This is the two-sided test, one-sided tests are not implemented. The test uses the two-sided asymptotic Kolmogorov-Smirnov distribution.\n",
    "\n",
    "If the K-S statistic is small or the p-value is high, then we cannot reject the hypothesis that the distributions of the two samples are the same."
   ]
  },
  {
   "cell_type": "code",
   "execution_count": 8,
   "metadata": {
    "collapsed": false
   },
   "outputs": [
    {
     "name": "stdout",
     "output_type": "stream",
     "text": [
      "K-S statistic =  0.126 pvalue = 0.0000\n"
     ]
    }
   ],
   "source": [
    "print 'K-S statistic = %6.3f pvalue = %6.4f' % stats.ks_2samp(a.values[:, 0],b.values[:, 0])"
   ]
  },
  {
   "cell_type": "markdown",
   "metadata": {},
   "source": [
    "## Data usage as a function of time"
   ]
  },
  {
   "cell_type": "code",
   "execution_count": 9,
   "metadata": {
    "collapsed": false
   },
   "outputs": [
    {
     "name": "stdout",
     "output_type": "stream",
     "text": [
      "DATA_MB\n"
     ]
    },
    {
     "data": {
      "image/png": "[encoded data removed]",
      "text/plain": [
       "<matplotlib.figure.Figure at 0x10cf03250>"
      ]
     },
     "metadata": {},
     "output_type": "display_data"
    },
    {
     "name": "stdout",
     "output_type": "stream",
     "text": [
      "DATA_4G_MB\n"
     ]
    },
    {
     "data": {
      "image/png": "[encoded data removed]",
      "text/plain": [
       "<matplotlib.figure.Figure at 0x10cf03190>"
      ]
     },
     "metadata": {},
     "output_type": "display_data"
    },
    {
     "name": "stdout",
     "output_type": "stream",
     "text": [
      "FUL_MB\n"
     ]
    },
    {
     "data": {
      "image/png": "[encoded data removed]",
      "text/plain": [
       "<matplotlib.figure.Figure at 0x10f6f7c90>"
      ]
     },
     "metadata": {},
     "output_type": "display_data"
    },
    {
     "name": "stdout",
     "output_type": "stream",
     "text": [
      "VOICE_CNT\n"
     ]
    },
    {
     "data": {
      "image/png": "[encoded data removed]",
      "text/plain": [
       "<matplotlib.figure.Figure at 0x1107abb10>"
      ]
     },
     "metadata": {},
     "output_type": "display_data"
    },
    {
     "name": "stdout",
     "output_type": "stream",
     "text": [
      "SMS_CNT\n"
     ]
    },
    {
     "data": {
      "image/png": "[encoded data removed]",
      "text/plain": [
       "<matplotlib.figure.Figure at 0x1106f98d0>"
      ]
     },
     "metadata": {},
     "output_type": "display_data"
    }
   ],
   "source": [
    "cols = ['DATA_MB', 'DATA_4G_MB','FUL_MB','VOICE_CNT','SMS_CNT']\n",
    "df['WEEK'] = df['SNAP_WK'] - 201700\n",
    "for c in cols:\n",
    "    print c\n",
    "    df[(df['SNAP_WK'] > 201700) & (df[c]>0)].groupby(['WEEK'])[c].mean().plot()\n",
    "    plt.show()"
   ]
  }
 ],
 "metadata": {
  "kernelspec": {
   "display_name": "Python 2",
   "language": "python",
   "name": "python2"
  },
  "language_info": {
   "codemirror_mode": {
    "name": "ipython",
    "version": 2
   },
   "file_extension": ".py",
   "mimetype": "text/x-python",
   "name": "python",
   "nbconvert_exporter": "python",
   "pygments_lexer": "ipython2",
   "version": "2.7.12"
  }
 },
 "nbformat": 4,
 "nbformat_minor": 0
}
